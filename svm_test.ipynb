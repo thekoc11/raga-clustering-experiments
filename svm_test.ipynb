{
 "cells": [
  {
   "cell_type": "code",
   "execution_count": 2,
   "outputs": [],
   "source": [
    "import numpy as np\n",
    "import os\n",
    "import dataset_utils as du\n",
    "\n",
    "from sklearn import svm, metrics\n",
    "from sklearn.model_selection import train_test_split"
   ],
   "metadata": {
    "collapsed": false,
    "pycharm": {
     "name": "#%%\n"
    }
   }
  },
  {
   "cell_type": "markdown",
   "source": [
    "# Dataset: PCD Bi(Without ChaosFEX)"
   ],
   "metadata": {
    "collapsed": false,
    "pycharm": {
     "name": "#%% md\n"
    }
   }
  },
  {
   "cell_type": "code",
   "execution_count": 87,
   "outputs": [
    {
     "name": "stdout",
     "output_type": "stream",
     "text": [
      "[22 22 22 22 22 22 22 22 22 22 22 22 22 22 22 22 22 22 22 22 22 22 22 22\n",
      " 22 22 22 22 22 22 22 22 22 22 22 22 22 22 22 22 22 22 22]\n",
      "(614, 144) (614,) (43, 144) (43,)\n",
      "(552, 144) (62, 144) (552,) (62,)\n"
     ]
    }
   ],
   "source": [
    "import os\n",
    "x1 = np.load(r\"E:\\DATASET\\pcds_bigram\\pcds_bigram_003.npy\")\n",
    "x2 = np.load(r\"E:\\DATASET\\pcds_bigram\\pcds_bigram_022.npy\")\n",
    "X = np.append(x1, x2, axis=0)\n",
    "\n",
    "y = np.load(os.path.join(du.copy_base,'DATASET_bin_Y.npy'))\n",
    "X_Test = np.load(r\"E:\\DATASET\\pcds_bigram\\pcds_bigram_042.npy\")\n",
    "\n",
    "y_Test = np.zeros(len(X_Test), dtype='int32')\n",
    "y_Test = y_Test + 22\n",
    "print(y_Test)\n",
    "\n",
    "\n",
    "print(X.shape, y.shape, X_Test.shape, y_Test.shape)\n",
    "\n",
    "X_train, X_test, y_train, y_test = train_test_split(X, y, test_size=0.1, shuffle=True)\n",
    "print(X_train.shape, X_test.shape, y_train.shape, y_test.shape)\n"
   ],
   "metadata": {
    "collapsed": false,
    "pycharm": {
     "name": "#%%\n"
    }
   }
  },
  {
   "cell_type": "markdown",
   "metadata": {
    "collapsed": true,
    "pycharm": {
     "name": "#%% md\n"
    }
   },
   "source": [
    "# Dataset: PCD Uni + Bi\n",
    "\n",
    "Best accuracy = 0.90\n",
    "Threshold = 0.499\n",
    "$\\epsilon$ = 0.06\n"
   ]
  },
  {
   "cell_type": "code",
   "execution_count": 75,
   "outputs": [
    {
     "name": "stdout",
     "output_type": "stream",
     "text": [
      "[22 22 22 22 22 22 22 22 22 22 22 22 22 22 22 22 22 22 22 22 22 22 22 22\n",
      " 22 22 22 22 22 22 22 22 22 22 22 22 22 22 22 22 22 22 22]\n",
      "(614, 624) (614,) (43, 624) (43,)\n",
      "(552, 624) (62, 624) (552,) (62,)\n"
     ]
    }
   ],
   "source": [
    "x1 = np.load(r\"E:\\DATASET\\pcds\\pcds_UniBi_003_022_CFXthres49925eps671.npy\")\n",
    "X = x1[:, :x1.shape[1]//2]\n",
    "\n",
    "y = np.load(os.path.join(du.copy_base,'DATASET_bin_Y.npy'))\n",
    "X_Test = np.load(r\"E:\\DATASET\\audio_CFX\\pcdsUniBi_042_CFXthres49925eps67.npy\")\n",
    "X_Test = X_Test[:, :X_Test.shape[1]//2]\n",
    "y_Test = np.zeros(len(X_Test), dtype='int32')\n",
    "y_Test = y_Test + 22\n",
    "print(y_Test)\n",
    "\n",
    "\n",
    "print(X.shape, y.shape, X_Test.shape, y_Test.shape)\n",
    "\n",
    "X_train, X_test, y_train, y_test = train_test_split(X, y, test_size=0.1, shuffle=True)\n",
    "print(X_train.shape, X_test.shape, y_train.shape, y_test.shape)"
   ],
   "metadata": {
    "collapsed": false,
    "pycharm": {
     "name": "#%%\n"
    }
   }
  },
  {
   "cell_type": "code",
   "execution_count": 34,
   "outputs": [
    {
     "name": "stdout",
     "output_type": "stream",
     "text": [
      "0.9055771171263677\n",
      "Classification report for thee classifier: SVC(kernel='linear')\n",
      "               precision    recall  f1-score   support\n",
      "\n",
      "           3       0.00      0.00      0.00         0\n",
      "          22       1.00      0.56      0.72        43\n",
      "\n",
      "    accuracy                           0.56        43\n",
      "   macro avg       0.50      0.28      0.36        43\n",
      "weighted avg       1.00      0.56      0.72        43\n",
      " \n",
      "\n"
     ]
    },
    {
     "name": "stderr",
     "output_type": "stream",
     "text": [
      "UndefinedMetricWarning:\n",
      "    Recall and F-score are ill-defined and being set to 0.0 in labels with no true samples. Use `zero_division` parameter to control this behavior.\n"
     ]
    },
    {
     "data": {
      "text/plain": "<Figure size 432x288 with 2 Axes>",
      "image/png": "[encoded data removed]"
     },
     "metadata": {
      "needs_background": "light"
     },
     "output_type": "display_data"
    }
   ],
   "source": [
    "\n",
    "classifier = svm.SVC(kernel='linear')\n",
    "f1 = []\n",
    "for iter in range(10):\n",
    "    classifier.fit(X_train, y_train)\n",
    "    pred = classifier.predict(X_test)\n",
    "    f = metrics.f1_score(y_test, pred, pos_label=y[0])\n",
    "    f1.append(f)\n",
    "    X_train, X_test, y_train, y_test = train_test_split(X, y, test_size=0.1, shuffle=True)\n",
    "\n",
    "print(np.array(f1).sum() / len(f1))\n",
    "predicted = classifier.predict(X_Test)\n",
    "\n",
    "print(\"Classification report for thee classifier: %s\\n %s \\n\" %\n",
    "      (classifier, metrics.classification_report(y_Test, predicted)))\n",
    "\n",
    "disp = metrics.plot_confusion_matrix(classifier, X_Test, y_Test)"
   ],
   "metadata": {
    "collapsed": false,
    "pycharm": {
     "name": "#%%\n"
    }
   }
  },
  {
   "cell_type": "markdown",
   "source": [
    "# Dataset: PCD Uni + Bi (Without CFX)"
   ],
   "metadata": {
    "collapsed": false,
    "pycharm": {
     "name": "#%% md\n"
    }
   }
  },
  {
   "cell_type": "code",
   "execution_count": 61,
   "outputs": [
    {
     "name": "stdout",
     "output_type": "stream",
     "text": [
      "1 files found! \n",
      "1 files found! \n",
      "1 files found! \n",
      "1 files found! \n",
      "(614, 12)\n",
      "(43, 12)\n",
      "0.8915825773227002\n",
      "Classification report for thee classifier: SVC(kernel='linear')\n",
      "               precision    recall  f1-score   support\n",
      "\n",
      "           3       0.00      0.00      0.00         0\n",
      "          22       1.00      0.26      0.41        43\n",
      "\n",
      "    accuracy                           0.26        43\n",
      "   macro avg       0.50      0.13      0.20        43\n",
      "weighted avg       1.00      0.26      0.41        43\n",
      " \n",
      "\n"
     ]
    },
    {
     "name": "stderr",
     "output_type": "stream",
     "text": [
      "UndefinedMetricWarning:\n",
      "    Recall and F-score are ill-defined and being set to 0.0 in labels with no true samples. Use `zero_division` parameter to control this behavior.\n"
     ]
    },
    {
     "data": {
      "text/plain": "<Figure size 432x288 with 2 Axes>",
      "image/png": "[encoded data removed]"
     },
     "metadata": {
      "needs_background": "light"
     },
     "output_type": "display_data"
    }
   ],
   "source": [
    "from svm_classifier import get_inputs\n",
    "x1 = np.load(r\"E:\\DATASET\\pcds\\pcds_3_22_unigram.npy\")\n",
    "x2_1files = get_inputs(r\"E:\\DATASET\\pcds_bigram\", ('003', ), 'pcds_bigram')\n",
    "x2_2files = get_inputs(r\"E:\\DATASET\\pcds_bigram\", ('022', ), 'pcds_bigram')\n",
    "x2_1 = np.load(os.path.join(r\"E:\\DATASET\\pcds_bigram\", x2_1files[0]))\n",
    "x2_2 = np.load(os.path.join(r\"E:\\DATASET\\pcds_bigram\", x2_2files[0]))\n",
    "import svm_classifier as sv\n",
    "path = r\"E:\\DATASET\\note_event_dists\"\n",
    "x3_1file = sv.get_inputs(path, ('003', ), 'ned')\n",
    "x3_2file = sv.get_inputs(path,('022', ), 'ned')\n",
    "x3_1 = np.load(os.path.join(path, x3_1file[0]))\n",
    "x3_2 = np.load(os.path.join(path, x3_2file[0]))\n",
    "x3 = np.append(x3_1, x3_2, axis=0)\n",
    "x2 = np.append(x2_1, x2_2, axis=0)\n",
    "# X = np.append(x1, x2, axis=1)\n",
    "# X = np.append(X, x3, axis=1)\n",
    "X = x1\n",
    "print(X.shape)\n",
    "\n",
    "x1_Test = np.load(r\"E:\\DATASET\\pcds\\pcds_42_unigram.npy\")\n",
    "x2_Test = np.load(r\"E:\\DATASET\\pcds_bigram\\pcds_bigram_042.npy\")\n",
    "x3_Test = np.load(os.path.join(path, 'ned_042.npy'))\n",
    "# X_Test = np.append(x1_Test, x2_Test, axis=1)\n",
    "# X_Test = np.append(X_Test, x3_Test, axis=1)\n",
    "X_Test = x1_Test\n",
    "# np.save(os.path.join(path, 'UniBiNoteDist_042.npy'), X_Test, allow_pickle=False)\n",
    "print(X_Test.shape)\n",
    "X_train, X_test, y_train, y_test = train_test_split(X, y, test_size=0.1, shuffle=True)\n",
    "classifier = svm.SVC(kernel='linear')\n",
    "f1 = []\n",
    "for iter in range(10):\n",
    "    classifier.fit(X_train, y_train)\n",
    "    pred = classifier.predict(X_test)\n",
    "    f = metrics.f1_score(y_test, pred, pos_label=y[0])\n",
    "    f1.append(f)\n",
    "    X_train, X_test, y_train, y_test = train_test_split(X, y, test_size=0.1, shuffle=True)\n",
    "\n",
    "print(np.array(f1).sum() / len(f1))\n",
    "predicted = classifier.predict(X_Test)\n",
    "\n",
    "print(\"Classification report for thee classifier: %s\\n %s \\n\" %\n",
    "      (classifier, metrics.classification_report(y_Test, predicted)))\n",
    "\n",
    "disp = metrics.plot_confusion_matrix(classifier, X_Test, y_Test)"
   ],
   "metadata": {
    "collapsed": false,
    "pycharm": {
     "name": "#%%\n"
    }
   }
  },
  {
   "cell_type": "markdown",
   "source": [
    "# Note Event Distributions (Without ChaosFEX)"
   ],
   "metadata": {
    "collapsed": false,
    "pycharm": {
     "name": "#%% md\n"
    }
   }
  },
  {
   "cell_type": "code",
   "execution_count": 42,
   "outputs": [
    {
     "name": "stderr",
     "output_type": "stream",
     "text": [
      "100%|██████████| 10/10 [00:25<00:00,  2.53s/it]\n",
      "UndefinedMetricWarning:\n",
      "    Precision and F-score are ill-defined and being set to 0.0 in labels with no predicted samples. Use `zero_division` parameter to control this behavior.\n",
      "UndefinedMetricWarning:\n",
      "    Recall and F-score are ill-defined and being set to 0.0 in labels with no true samples. Use `zero_division` parameter to control this behavior.\n"
     ]
    },
    {
     "name": "stdout",
     "output_type": "stream",
     "text": [
      "1 files found! \n",
      "1 files found! \n",
      "(614, 5023)\n",
      "10-fold cross-validation started\n",
      "f1-score: 0.7037187250617102\n",
      "saving the model to E:\\DATASET\\models\\ned_003.joblib\n",
      "Max f1 0.7037187250617102 achieved at iteration 0\n",
      "Classification report for thee classifier: SVC(kernel='linear')\n",
      "               precision    recall  f1-score   support\n",
      "\n",
      "           3       0.00      0.00      0.00       0.0\n",
      "          22       0.00      0.00      0.00      43.0\n",
      "\n",
      "    accuracy                           0.00      43.0\n",
      "   macro avg       0.00      0.00      0.00      43.0\n",
      "weighted avg       0.00      0.00      0.00      43.0\n",
      " \n",
      "\n"
     ]
    },
    {
     "data": {
      "text/plain": "<Figure size 432x288 with 2 Axes>",
      "image/png": "[encoded data removed]"
     },
     "metadata": {
      "needs_background": "light"
     },
     "output_type": "display_data"
    }
   ],
   "source": [
    "import svm_classifier as sv\n",
    "path = r\"E:\\DATASET\\note_event_dists\"\n",
    "x1_file = sv.get_inputs(path, ('003', ), 'ned')\n",
    "x2_file = sv.get_inputs(path,('022', ), 'ned')\n",
    "x1 = np.load(os.path.join(path, x1_file[0]))\n",
    "x2 = np.load(os.path.join(path, x2_file[0]))\n",
    "X = np.append(x1, x2, axis=0)\n",
    "print(X.shape)\n",
    "X_files = x1_file + x2_file\n",
    "f1, prec, acc = sv.classify_svm_linear(path, X_files, y, thresh=0.0)\n",
    "\n",
    "from joblib import load\n",
    "model = load(r\"E:\\DATASET\\models\\ned_003.joblib\")\n",
    "X_Test = np.load(os.path.join(path, 'ned_042.npy'))\n",
    "predicted = model.predict(X_Test)\n",
    "\n",
    "\n",
    "print(\"Classification report for thee classifier: %s\\n %s \\n\" %\n",
    "      (model, metrics.classification_report(y_Test, predicted)))\n",
    "\n",
    "disp = metrics.plot_confusion_matrix(model, X_Test, y_Test)"
   ],
   "metadata": {
    "collapsed": false,
    "pycharm": {
     "name": "#%%\n"
    }
   }
  },
  {
   "cell_type": "markdown",
   "source": [
    "# PCD +  Note Event  Dists\n",
    "\n",
    "Best accuracy: 0.911\n",
    "$\\epsilon$ = 0.0558\n",
    "threshold = 0.25"
   ],
   "metadata": {
    "collapsed": false
   }
  },
  {
   "cell_type": "code",
   "execution_count": 50,
   "outputs": [
    {
     "name": "stdout",
     "output_type": "stream",
     "text": [
      "[22 22 22 22 22 22 22 22 22 22 22 22 22 22 22 22 22 22 22 22 22 22 22 22\n",
      " 22 22 22 22 22 22 22 22 22 22 22 22 22 22 22 22 22 22 22]\n",
      "(614, 20716) (614,) (43, 20716) (43,)\n",
      "(552, 20716) (62, 20716) (552,) (62,)\n"
     ]
    }
   ],
   "source": [
    "\n",
    "x1 = np.load(r\"E:\\DATASET\\audio_CFX\\UniBiNoteDist_003_022_CFXthres49925eps558.npy\")\n",
    "X = x1[:, x1.shape[1]//2:]\n",
    "\n",
    "y = np.load(os.path.join(du.copy_base,'DATASET_bin_Y.npy'))\n",
    "X_Test = np.load(r\"E:\\DATASET\\audio_CFX\\UniBiNoteDist_042_CFXthres49925eps55.npy\")\n",
    "X_Test = X_Test[:, X_Test.shape[1]//2:]\n",
    "y_Test = np.zeros(len(X_Test), dtype='int32')\n",
    "y_Test = y_Test + 22\n",
    "print(y_Test)\n",
    "\n",
    "\n",
    "print(X.shape, y.shape, X_Test.shape, y_Test.shape)\n",
    "\n",
    "X_train, X_test, y_train, y_test = train_test_split(X, y, test_size=0.1, shuffle=True)\n",
    "print(X_train.shape, X_test.shape, y_train.shape, y_test.shape)"
   ],
   "metadata": {
    "collapsed": false,
    "pycharm": {
     "name": "#%%\n"
    }
   }
  },
  {
   "cell_type": "code",
   "execution_count": 54,
   "outputs": [
    {
     "name": "stdout",
     "output_type": "stream",
     "text": [
      "0.9053837925061885\n",
      "Classification report for thee classifier: SVC(kernel='linear')\n",
      "               precision    recall  f1-score   support\n",
      "\n",
      "           3       0.00      0.00      0.00         0\n",
      "          22       1.00      0.35      0.52        43\n",
      "\n",
      "    accuracy                           0.35        43\n",
      "   macro avg       0.50      0.17      0.26        43\n",
      "weighted avg       1.00      0.35      0.52        43\n",
      " \n",
      "\n"
     ]
    },
    {
     "name": "stderr",
     "output_type": "stream",
     "text": [
      "UndefinedMetricWarning:\n",
      "    Recall and F-score are ill-defined and being set to 0.0 in labels with no true samples. Use `zero_division` parameter to control this behavior.\n"
     ]
    },
    {
     "data": {
      "text/plain": "<Figure size 432x288 with 2 Axes>",
      "image/png": "[encoded data removed]"
     },
     "metadata": {
      "needs_background": "light"
     },
     "output_type": "display_data"
    }
   ],
   "source": [
    "\n",
    "classifier = svm.SVC(kernel='linear')\n",
    "f1 = []\n",
    "for iter in range(10):\n",
    "    classifier.fit(X_train, y_train)\n",
    "    pred = classifier.predict(X_test)\n",
    "    f = metrics.f1_score(y_test, pred, pos_label=y[0])\n",
    "    f1.append(f)\n",
    "    X_train, X_test, y_train, y_test = train_test_split(X, y, test_size=0.1, shuffle=True)\n",
    "\n",
    "print(np.array(f1).sum() / len(f1))\n",
    "predicted = classifier.predict(X_Test)\n",
    "\n",
    "print(\"Classification report for thee classifier: %s\\n %s \\n\" %\n",
    "      (classifier, metrics.classification_report(y_Test, predicted)))\n",
    "\n",
    "disp = metrics.plot_confusion_matrix(classifier, X_Test, y_Test)"
   ],
   "metadata": {
    "collapsed": false,
    "pycharm": {
     "name": "#%%\n"
    }
   }
  },
  {
   "cell_type": "markdown",
   "source": [
    "# PCD + Note Event Dists (Without ChaosFEX"
   ],
   "metadata": {
    "collapsed": false,
    "pycharm": {
     "name": "#%% md\n"
    }
   }
  },
  {
   "cell_type": "code",
   "execution_count": 9,
   "outputs": [
    {
     "data": {
      "text/plain": "(2585,)"
     },
     "execution_count": 9,
     "metadata": {},
     "output_type": "execute_result"
    }
   ],
   "source": [
    "import numpy as np\n",
    "\n",
    "arr = np.random.normal(0, 1, (12, 2585))\n",
    "arr = arr.max(axis=0)\n",
    "arr.shape"
   ],
   "metadata": {
    "collapsed": false,
    "pycharm": {
     "name": "#%%\n"
    }
   }
  },
  {
   "cell_type": "markdown",
   "source": [
    "# Melody Augmentation(with ChaosFEX)\n",
    "Best performance:\n",
    "$f_1$ score = 0.87 $\\pm$ 0.02\n",
    "$\\epsilon$  = 0.065\n",
    "thresh = 0.25"
   ],
   "metadata": {
    "collapsed": false,
    "pycharm": {
     "name": "#%% md\n"
    }
   }
  },
  {
   "cell_type": "code",
   "execution_count": 89,
   "outputs": [
    {
     "name": "stdout",
     "output_type": "stream",
     "text": [
      "2 files found! \n",
      "20 files found! \n",
      "Classification report for thee classifier: SVC(kernel='linear')\n",
      "               precision    recall  f1-score   support\n",
      "\n",
      "           3       0.00      0.00      0.00         0\n",
      "          22       1.00      0.30      0.46        43\n",
      "\n",
      "    accuracy                           0.30        43\n",
      "   macro avg       0.50      0.15      0.23        43\n",
      "weighted avg       1.00      0.30      0.46        43\n",
      " \n",
      "\n"
     ]
    },
    {
     "name": "stderr",
     "output_type": "stream",
     "text": [
      "UndefinedMetricWarning:\n",
      "    Recall and F-score are ill-defined and being set to 0.0 in labels with no true samples. Use `zero_division` parameter to control this behavior.\n"
     ]
    },
    {
     "data": {
      "text/plain": "<Figure size 432x288 with 2 Axes>",
      "image/png": "[encoded data removed]"
     },
     "metadata": {
      "needs_background": "light"
     },
     "output_type": "display_data"
    }
   ],
   "source": [
    "import os\n",
    "import numpy as np\n",
    "import svm_classifier as sv\n",
    "from joblib import load\n",
    "\n",
    "path = r\"E:\\DATASET\\audio_CFX\"\n",
    "path_model = path.replace('audio_CFX', 'models')\n",
    "X_Test_files = sv.get_inputs(path, ('042', ), 'Pitches', chaos=True)\n",
    "X_Test = np.load(os.path.join(path, X_Test_files[-1]))\n",
    "X_Test = X_Test[:, X_Test.shape[1]//2:]\n",
    "models = sv.get_inputs(path_model, ('003', '022'), 'Pitches', chaos=True)\n",
    "clf = load(os.path.join(path_model, models[15]))\n",
    "predicted = clf.predict(X_Test)\n",
    "\n",
    "print(\"Classification report for thee classifier: %s\\n %s \\n\" %\n",
    "      (clf, metrics.classification_report(y_Test, predicted)))\n",
    "\n",
    "disp = metrics.plot_confusion_matrix(clf, X_Test, y_Test)"
   ],
   "metadata": {
    "collapsed": false,
    "pycharm": {
     "name": "#%%\n"
    }
   }
  },
  {
   "cell_type": "markdown",
   "source": [
    "Performance: 0.85 $\\pm$ 0.02\n",
    "$\\epsilon$  = 0.059\n",
    "thresh = 0.499"
   ],
   "metadata": {
    "collapsed": false,
    "pycharm": {
     "name": "#%% md\n"
    }
   }
  },
  {
   "cell_type": "code",
   "execution_count": 90,
   "outputs": [
    {
     "name": "stdout",
     "output_type": "stream",
     "text": [
      "2 files found! \n",
      "20 files found! \n",
      "Classification report for thee classifier: SVC(kernel='linear')\n",
      "               precision    recall  f1-score   support\n",
      "\n",
      "           3       0.00      0.00      0.00         0\n",
      "          22       1.00      0.23      0.38        43\n",
      "\n",
      "    accuracy                           0.23        43\n",
      "   macro avg       0.50      0.12      0.19        43\n",
      "weighted avg       1.00      0.23      0.38        43\n",
      " \n",
      "\n"
     ]
    },
    {
     "name": "stderr",
     "output_type": "stream",
     "text": [
      "UndefinedMetricWarning:\n",
      "    Recall and F-score are ill-defined and being set to 0.0 in labels with no true samples. Use `zero_division` parameter to control this behavior.\n"
     ]
    },
    {
     "data": {
      "text/plain": "<Figure size 432x288 with 2 Axes>",
      "image/png": "[encoded data removed]"
     },
     "metadata": {
      "needs_background": "light"
     },
     "output_type": "display_data"
    }
   ],
   "source": [
    "import os\n",
    "import numpy as np\n",
    "import svm_classifier as sv\n",
    "from joblib import load\n",
    "\n",
    "path = r\"E:\\DATASET\\audio_CFX\"\n",
    "path_model = path.replace('audio_CFX', 'models')\n",
    "X_Test_files = sv.get_inputs(path, ('042', ), 'Pitches', chaos=True)\n",
    "X_Test = np.load(os.path.join(path, X_Test_files[0]))\n",
    "X_Test = X_Test[:, :X_Test.shape[1]//2]\n",
    "models = sv.get_inputs(path_model, ('003', '022'), 'Pitches', chaos=True)\n",
    "clf = load(os.path.join(path_model, models[9]))\n",
    "predicted = clf.predict(X_Test)\n",
    "\n",
    "print(\"Classification report for thee classifier: %s\\n %s \\n\" %\n",
    "      (clf, metrics.classification_report(y_Test, predicted)))\n",
    "\n",
    "disp = metrics.plot_confusion_matrix(clf, X_Test, y_Test)"
   ],
   "metadata": {
    "collapsed": false,
    "pycharm": {
     "name": "#%%\n"
    }
   }
  },
  {
   "cell_type": "markdown",
   "source": [
    "# Melody Augmentation(without ChaosFEX)\n",
    "\n",
    "Performance: 0.84 $\\pm$ 0.02"
   ],
   "metadata": {
    "collapsed": false
   }
  },
  {
   "cell_type": "code",
   "execution_count": 86,
   "outputs": [
    {
     "name": "stdout",
     "output_type": "stream",
     "text": [
      "1 files found! \n",
      "1 files found! \n",
      "Classification report for thee classifier: SVC(kernel='linear')\n",
      "               precision    recall  f1-score   support\n",
      "\n",
      "           3       0.00      0.00      0.00         0\n",
      "          22       1.00      0.30      0.46        43\n",
      "\n",
      "    accuracy                           0.30        43\n",
      "   macro avg       0.50      0.15      0.23        43\n",
      "weighted avg       1.00      0.30      0.46        43\n",
      " \n",
      "\n"
     ]
    },
    {
     "name": "stderr",
     "output_type": "stream",
     "text": [
      "UndefinedMetricWarning:\n",
      "    Recall and F-score are ill-defined and being set to 0.0 in labels with no true samples. Use `zero_division` parameter to control this behavior.\n"
     ]
    },
    {
     "data": {
      "text/plain": "<Figure size 432x288 with 2 Axes>",
      "image/png": "[encoded data removed]"
     },
     "metadata": {
      "needs_background": "light"
     },
     "output_type": "display_data"
    }
   ],
   "source": [
    "import os\n",
    "import numpy as np\n",
    "import svm_classifier as sv\n",
    "from joblib import load\n",
    "\n",
    "path = r\"E:\\DATASET\\dom_scale_inv\"\n",
    "path_model = path.replace('dom_scale_inv', 'models')\n",
    "X_Test_files = sv.get_inputs(path, ('042', ), 'pitches')\n",
    "x_Test = np.load(os.path.join(path, X_Test_files[0]))\n",
    "X_Test = x_Test.reshape((x_Test.shape[0], x_Test.shape[1]*x_Test.shape[2]))\n",
    "# X_Test.shape\n",
    "# X_Test = X_Test[:, X_Test.shape[1]//2:]\n",
    "models = sv.get_inputs(path_model, ('003', ), 'pitches')\n",
    "clf = load(os.path.join(path_model, models[0]))\n",
    "predicted = clf.predict(X_Test)\n",
    "y_Test = y_Test[:43]\n",
    "print(\"Classification report for thee classifier: %s\\n %s \\n\" %\n",
    "      (clf, metrics.classification_report(y_Test, predicted)))\n",
    "\n",
    "disp = metrics.plot_confusion_matrix(clf, X_Test, y_Test)"
   ],
   "metadata": {
    "collapsed": false,
    "pycharm": {
     "name": "#%%\n"
    }
   }
  },
  {
   "cell_type": "code",
   "execution_count": 84,
   "outputs": [
    {
     "name": "stdout",
     "output_type": "stream",
     "text": [
      "1 files found! \n",
      "(46, 48)\n",
      "2 files found! \n",
      "['Śankarābharaṇaṁ', 'Śankarābharaṇaṁ', 'Śankarābharaṇaṁ', 'Śankarābharaṇaṁ', 'Śankarābharaṇaṁ', 'Śankarābharaṇaṁ', 'Śankarābharaṇaṁ', 'Śankarābharaṇaṁ', 'Śankarābharaṇaṁ', 'Śankarābharaṇaṁ', 'Śankarābharaṇaṁ', 'Śankarābharaṇaṁ', 'Śankarābharaṇaṁ', 'Śankarābharaṇaṁ', 'Śankarābharaṇaṁ', 'Śankarābharaṇaṁ', 'Śankarābharaṇaṁ', 'Śankarābharaṇaṁ', 'Śankarābharaṇaṁ', 'Śankarābharaṇaṁ', 'Śankarābharaṇaṁ', 'Śankarābharaṇaṁ', 'Śankarābharaṇaṁ', 'Śankarābharaṇaṁ', 'Śankarābharaṇaṁ', 'Śankarābharaṇaṁ', 'Śankarābharaṇaṁ', 'Śankarābharaṇaṁ', 'Śankarābharaṇaṁ', 'Śankarābharaṇaṁ', 'Śankarābharaṇaṁ', 'Śankarābharaṇaṁ', 'Śankarābharaṇaṁ', 'Śankarābharaṇaṁ', 'Śankarābharaṇaṁ', 'Śankarābharaṇaṁ', 'Śankarābharaṇaṁ', 'Śankarābharaṇaṁ', 'Śankarābharaṇaṁ', 'Śankarābharaṇaṁ', 'Śankarābharaṇaṁ', 'Śankarābharaṇaṁ', 'Śankarābharaṇaṁ', 'Śankarābharaṇaṁ', 'Śankarābharaṇaṁ', 'Śankarābharaṇaṁ'] ['Bhairavi' 'Śankarābharaṇaṁ' 'Śankarābharaṇaṁ' 'Śankarābharaṇaṁ'\n",
      " 'Śankarābharaṇaṁ' 'Śankarābharaṇaṁ' 'Bhairavi' 'Bhairavi' 'Bhairavi'\n",
      " 'Śankarābharaṇaṁ' 'Śankarābharaṇaṁ' 'Bhairavi' 'Śankarābharaṇaṁ'\n",
      " 'Śankarābharaṇaṁ' 'Śankarābharaṇaṁ' 'Śankarābharaṇaṁ' 'Śankarābharaṇaṁ'\n",
      " 'Bhairavi' 'Bhairavi' 'Śankarābharaṇaṁ' 'Bhairavi' 'Bhairavi' 'Bhairavi'\n",
      " 'Bhairavi' 'Śankarābharaṇaṁ' 'Bhairavi' 'Śankarābharaṇaṁ' 'Bhairavi'\n",
      " 'Bhairavi' 'Bhairavi' 'Śankarābharaṇaṁ' 'Bhairavi' 'Bhairavi' 'Bhairavi'\n",
      " 'Śankarābharaṇaṁ' 'Śankarābharaṇaṁ' 'Śankarābharaṇaṁ' 'Śankarābharaṇaṁ'\n",
      " 'Bhairavi' 'Bhairavi' 'Bhairavi' 'Bhairavi' 'Bhairavi' 'Śankarābharaṇaṁ'\n",
      " 'Bhairavi' 'Śankarābharaṇaṁ']\n",
      "Classification report for thee classifier: SVC(kernel='linear')\n",
      "                  precision    recall  f1-score   support\n",
      "\n",
      "       Bhairavi       0.00      0.00      0.00         0\n",
      "Śankarābharaṇaṁ       1.00      0.48      0.65        46\n",
      "\n",
      "       accuracy                           0.48        46\n",
      "      macro avg       0.50      0.24      0.32        46\n",
      "   weighted avg       1.00      0.48      0.65        46\n",
      " \n",
      "\n"
     ]
    },
    {
     "name": "stderr",
     "output_type": "stream",
     "text": [
      "UndefinedMetricWarning:\n",
      "    Recall and F-score are ill-defined and being set to 0.0 in labels with no true samples. Use `zero_division` parameter to control this behavior.\n"
     ]
    },
    {
     "data": {
      "text/plain": "<Figure size 432x288 with 2 Axes>",
      "image/png": "[encoded data removed]"
     },
     "metadata": {
      "needs_background": "light"
     },
     "output_type": "display_data"
    }
   ],
   "source": [
    "import os\n",
    "import numpy as np\n",
    "import svm_classifier as sv\n",
    "from joblib import load\n",
    "\n",
    "path = r\"E:\\DATASET\\audio_CFX\"\n",
    "path_model = path.replace('audio_CFX', 'models')\n",
    "X_Test_files = sv.get_inputs(path, ('041', ), 'pcdUni', chaos=True)\n",
    "x_Test = np.load(os.path.join(path, X_Test_files[0]))\n",
    "# X_Test = x_Test.reshape((x_Test.shape[0], x_Test.shape[1]*x_Test.shape[2]))\n",
    "X_Test = x_Test[:, :x_Test.shape[1]//2]\n",
    "print(X_Test.shape)\n",
    "models = sv.get_inputs(path_model, ('003', '022' ), 'pcdUni', chaos=True)\n",
    "clf = load(os.path.join(path_model, models[0]))\n",
    "predicted = clf.predict(X_Test)\n",
    "y_Test_ = ['Śankarābharaṇaṁ' if y == 22 else 'Bhairavi' for y in y_Test]\n",
    "print(y_Test_, predicted)\n",
    "print(\"Classification report for thee classifier: %s\\n %s \\n\" %\n",
    "      (clf, metrics.classification_report(y_Test_, predicted)))\n",
    "\n",
    "disp = metrics.plot_confusion_matrix(clf, X_Test, y_Test_)"
   ],
   "metadata": {
    "collapsed": false,
    "pycharm": {
     "name": "#%%\n"
    }
   }
  }
 ],
 "metadata": {
  "kernelspec": {
   "display_name": "Python 3",
   "language": "python",
   "name": "python3"
  },
  "language_info": {
   "codemirror_mode": {
    "name": "ipython",
    "version": 2
   },
   "file_extension": ".py",
   "mimetype": "text/x-python",
   "name": "python",
   "nbconvert_exporter": "python",
   "pygments_lexer": "ipython2",
   "version": "2.7.6"
  }
 },
 "nbformat": 4,
 "nbformat_minor": 0
}