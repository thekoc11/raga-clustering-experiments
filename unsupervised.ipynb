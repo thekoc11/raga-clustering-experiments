{
 "cells": [
  {
   "cell_type": "markdown",
   "metadata": {
    "collapsed": true,
    "pycharm": {
     "name": "#%% md\n"
    }
   },
   "source": [
    "# K-Means Clustering:"
   ]
  },
  {
   "cell_type": "code",
   "execution_count": 9,
   "outputs": [],
   "source": [
    "import dataset_utils\n",
    "import numpy as np\n",
    "import matplotlib.pyplot as plt\n",
    "import regex as re\n",
    "\n",
    "from sklearn import metrics\n",
    "from sklearn.cluster import KMeans\n",
    "from sklearn.datasets import load_digits\n",
    "from sklearn.decomposition import PCA\n",
    "from sklearn.preprocessing import scale\n",
    "import os\n",
    "from dataset_utils import get_random_songs\n",
    "# len(labels[3])"
   ],
   "metadata": {
    "collapsed": false,
    "pycharm": {
     "name": "#%%\n"
    }
   }
  },
  {
   "cell_type": "code",
   "execution_count": 10,
   "outputs": [],
   "source": [
    "\n",
    "def bench_k_means(estimator, name, data):\n",
    "  estimator.fit(data)\n",
    "  init = estimator.inertia_\n",
    "  ari = metrics.adjusted_rand_score(labels, estimator.labels_)\n",
    "  ami = metrics.adjusted_mutual_info_score(labels, estimator.labels_)\n",
    "  fmi = metrics.fowlkes_mallows_score(labels, estimator.labels_)\n",
    "  print(f\"{name} \\t {init} \\t {ari} \\t {ami} \\t {fmi}\")"
   ],
   "metadata": {
    "collapsed": false,
    "pycharm": {
     "name": "#%%\n"
    }
   }
  },
  {
   "cell_type": "code",
   "execution_count": 11,
   "outputs": [
    {
     "name": "stdout",
     "output_type": "stream",
     "text": [
      "0\n",
      "(614,)\n"
     ]
    }
   ],
   "source": [
    "pattern = re.compile(r\"^pcds_3_22_unigram_CFXeps\\d+.npy$\")\n",
    "files_path = r'E:\\DATASET\\note_events'\n",
    "files = os.listdir(files_path)\n",
    "matches = []\n",
    "\n",
    "for file in files:\n",
    "    match = pattern.findall(file)\n",
    "    if(len(match)) > 0:\n",
    "        matches.append(match[0])\n",
    "print(len(matches))\n",
    "y = np.load(os.path.join(dataset_utils.copy_base,'DATASET_bin_Y.npy'))\n",
    "print(y.shape)\n",
    "# matches = [os.path.join(files_path, 'pcds_3_22_unigram.npy')]"
   ],
   "metadata": {
    "collapsed": false,
    "pycharm": {
     "name": "#%%\n"
    }
   }
  },
  {
   "cell_type": "code",
   "execution_count": 17,
   "outputs": [],
   "source": [
    "x1 = np.load(os.path.join(files_path,'note_events_003.npy'))\n",
    "x2 = np.load(os.path.join(files_path,'note_events_022.npy'))\n",
    "x = np.append(x1, x2, axis=0)\n",
    "matches = [x]\n",
    "# X = np.load(os.path.join(files_path, x))"
   ],
   "metadata": {
    "collapsed": false,
    "pycharm": {
     "name": "#%%\n"
    }
   }
  },
  {
   "cell_type": "code",
   "execution_count": 21,
   "outputs": [
    {
     "name": "stdout",
     "output_type": "stream",
     "text": [
      "kmeans++ \t 1153842.7188768948 \t 0.0012445927997235824 \t -0.0008137932342258765 \t 0.6466841210376192\n",
      "random \t 1153721.9197714902 \t -0.0001716188711075317 \t -0.0015742174566265484 \t 0.6420222592321126\n",
      "PCA_based \t 1176262.4390803918 \t 0.00038189015589715816 \t 0.0002721083174648498 \t 0.7065972639895863\n"
     ]
    }
   ],
   "source": [
    "for x in matches:\n",
    "    X = x#np.load(os.path.join(files_path, x))\n",
    "    data = X\n",
    "    n_samples, n_features = data.shape\n",
    "    n_ragas = len(np.unique(y))\n",
    "    labels = y\n",
    "    sample_size = 300\n",
    "    estim_1 = KMeans(init='k-means++', n_clusters=n_ragas, n_init=10)\n",
    "    bench_k_means(estim_1, 'kmeans++', data)\n",
    "\n",
    "    estim_2 = KMeans(init='random', n_clusters=n_ragas, n_init=10)\n",
    "    bench_k_means(estim_2, 'random', data)\n",
    "\n",
    "    pca = PCA(n_components=2).fit(data)\n",
    "    pca_kmeans = KMeans(init=pca.components_, n_clusters=n_ragas, n_init=1)\n",
    "    bench_k_means(pca_kmeans, 'PCA_based', data)"
   ],
   "metadata": {
    "collapsed": false,
    "pycharm": {
     "name": "#%%\n"
    }
   }
  },
  {
   "cell_type": "markdown",
   "source": [
    "## Visualisation"
   ],
   "metadata": {
    "collapsed": false,
    "pycharm": {
     "name": "#%% md\n"
    }
   }
  },
  {
   "cell_type": "code",
   "execution_count": 19,
   "outputs": [
    {
     "data": {
      "text/plain": "<Figure size 432x288 with 1 Axes>",
      "image/png": "[encoded data removed]"
     },
     "metadata": {},
     "output_type": "display_data"
    }
   ],
   "source": [
    "reduced_data = PCA(n_components=2).fit_transform(data)\n",
    "kmeans = KMeans(init='k-means++', n_clusters=n_ragas, n_init=10)\n",
    "kmeans.fit(reduced_data)\n",
    "h = 0.2\n",
    "x_min, x_max = reduced_data[:, 0].min() - 1, reduced_data[:, 0].max() + 1\n",
    "y_min, y_max = reduced_data[:, 1].min() - 1, reduced_data[:, 1].max() + 1\n",
    "xx, yy = np.meshgrid(np.arange(x_min, x_max, h), np.arange(y_min, y_max, h))\n",
    "\n",
    "Z = kmeans.predict(np.c_[xx.ravel(), yy.ravel()])\n",
    "\n",
    "Z = Z.reshape(xx.shape)\n",
    "plt.figure(1)\n",
    "plt.clf()\n",
    "plt.imshow(Z, interpolation='nearest',\n",
    "           extent=(xx.min(), xx.max(), yy.min(), yy.max()),\n",
    "           cmap=plt.cm.Paired,\n",
    "           aspect='auto', origin='lower')\n",
    "plt.plot(reduced_data[:, 0], reduced_data[:, 1], 'k.', markersize=2)\n",
    "centroids = kmeans.cluster_centers_\n",
    "plt.scatter(centroids[:, 0], centroids[:, 1],\n",
    "            marker='x', s=169, linewidths=3,\n",
    "            color='w', zorder=10)\n",
    "plt.title('K-means clustering on the digits dataset (PCA-reduced data)\\n'\n",
    "          'Centroids are marked with white cross')\n",
    "plt.xlim(x_min, x_max)\n",
    "plt.ylim(y_min, y_max)\n",
    "plt.xticks(())\n",
    "plt.yticks(())\n",
    "plt.show()"
   ],
   "metadata": {
    "collapsed": false,
    "pycharm": {
     "name": "#%%\n"
    }
   }
  },
  {
   "cell_type": "code",
   "execution_count": 6,
   "outputs": [
    {
     "data": {
      "text/plain": "array([ 0,  2,  3,  5,  7,  8, 10])"
     },
     "execution_count": 6,
     "metadata": {},
     "output_type": "execute_result"
    }
   ],
   "source": [
    "import librosa\n",
    "\n",
    "librosa.mela_to_degrees(20)"
   ],
   "metadata": {
    "collapsed": false,
    "pycharm": {
     "name": "#%%\n"
    }
   }
  }
 ],
 "metadata": {
  "kernelspec": {
   "display_name": "Python 3",
   "language": "python",
   "name": "python3"
  },
  "language_info": {
   "codemirror_mode": {
    "name": "ipython",
    "version": 2
   },
   "file_extension": ".py",
   "mimetype": "text/x-python",
   "name": "python",
   "nbconvert_exporter": "python",
   "pygments_lexer": "ipython2",
   "version": "2.7.6"
  }
 },
 "nbformat": 4,
 "nbformat_minor": 0
}