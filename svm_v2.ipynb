{
 "cells": [
  {
   "cell_type": "code",
   "execution_count": 1,
   "metadata": {
    "collapsed": true
   },
   "outputs": [
    {
     "name": "stdout",
     "output_type": "stream",
     "text": [
      "1 files found! \n",
      "1 files found! \n",
      "(614, 155) (614,) 3\n",
      "(6624, 155) (62, 155) (6624,)\n"
     ]
    }
   ],
   "source": [
    "import numpy as np\n",
    "import audio_utils\n",
    "import dataset_utils\n",
    "import all_scale\n",
    "import Viewpoints\n",
    "import svm_classifier\n",
    "import os\n",
    "\n",
    "path = r\"E:\\DATASET\\v2\"\n",
    "fname = svm_classifier.get_inputs(path, ('003', '022'), 'Pitches')\n",
    "fname_y = svm_classifier.get_inputs(path, ('003', '022'), 'Y')\n",
    "\n",
    "X = np.load(os.path.join(path, fname[0]))\n",
    "y = np.load(os.path.join(path, fname_y[0]))\n",
    "print(X.shape, y.shape, y[0])\n",
    "\n",
    "X_train, X_test, y_train, y_test = all_scale.train_test_split(X, y, test_size=0.1, shuffle=True, type='events')\n",
    "print(X_train.shape, X_test.shape, y_train.shape)"
   ]
  },
  {
   "cell_type": "code",
   "execution_count": null,
   "outputs": [],
   "source": [
    "from sklearn import svm, metrics\n",
    "\n",
    "classifier = svm.SVC(kernel='linear')\n",
    "f1 = []\n",
    "for iter in range(20):\n",
    "    classifier.fit(X_train, y_train)\n",
    "    pred = classifier.predict(X_test)\n",
    "    f = metrics.f1_score(y_test, pred, pos_label=y[0])\n",
    "    f1.append(f)\n",
    "    X_train, X_test, y_train, y_test = all_scale.train_test_split(X, y, test_size=0.1, shuffle=True, type='events')\n",
    "\n",
    "print(np.array(f1).sum() / len(f1))\n"
   ],
   "metadata": {
    "collapsed": false,
    "pycharm": {
     "name": "#%%\n",
     "is_executing": true
    }
   }
  },
  {
   "cell_type": "code",
   "execution_count": 6,
   "outputs": [
    {
     "name": "stdout",
     "output_type": "stream",
     "text": [
      "1 files found! \n",
      "Classification report for thee classifier: SVC(kernel='linear')\n",
      "               precision    recall  f1-score   support\n",
      "\n",
      "         3.0       0.00      0.00      0.00       0.0\n",
      "        22.0       0.00      0.00      0.00      46.0\n",
      "\n",
      "    accuracy                           0.00      46.0\n",
      "   macro avg       0.00      0.00      0.00      46.0\n",
      "weighted avg       0.00      0.00      0.00      46.0\n",
      " \n",
      "\n"
     ]
    },
    {
     "name": "stderr",
     "output_type": "stream",
     "text": [
      "UndefinedMetricWarning:\n",
      "    Precision and F-score are ill-defined and being set to 0.0 in labels with no predicted samples. Use `zero_division` parameter to control this behavior.\n",
      "UndefinedMetricWarning:\n",
      "    Recall and F-score are ill-defined and being set to 0.0 in labels with no true samples. Use `zero_division` parameter to control this behavior.\n"
     ]
    },
    {
     "data": {
      "text/plain": "<Figure size 432x288 with 2 Axes>",
      "image/png": "[encoded data removed]"
     },
     "metadata": {
      "needs_background": "light"
     },
     "output_type": "display_data"
    }
   ],
   "source": [
    "fname_test = svm_classifier.get_inputs(path, ('041', ), 'PCD')\n",
    "X_Test = np.load(os.path.join(path, fname_test[0]))\n",
    "predicted = classifier.predict(X_Test)\n",
    "\n",
    "\n",
    "y_Test = np.zeros(len(X_Test), dtype='int32')\n",
    "y_Test = y_Test + 22\n",
    "# print(y_Test)\n",
    "\n",
    "\n",
    "print(\"Classification report for thee classifier: %s\\n %s \\n\" %\n",
    "      (classifier, metrics.classification_report(y_Test, predicted)))\n",
    "\n",
    "disp = metrics.plot_confusion_matrix(classifier, X_Test, y_Test)"
   ],
   "metadata": {
    "collapsed": false,
    "pycharm": {
     "name": "#%%\n"
    }
   }
  }
 ],
 "metadata": {
  "kernelspec": {
   "display_name": "Python 3",
   "language": "python",
   "name": "python3"
  },
  "language_info": {
   "codemirror_mode": {
    "name": "ipython",
    "version": 2
   },
   "file_extension": ".py",
   "mimetype": "text/x-python",
   "name": "python",
   "nbconvert_exporter": "python",
   "pygments_lexer": "ipython2",
   "version": "2.7.6"
  }
 },
 "nbformat": 4,
 "nbformat_minor": 0
}