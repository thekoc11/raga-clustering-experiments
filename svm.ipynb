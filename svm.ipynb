{
 "cells": [
  {
   "cell_type": "code",
   "execution_count": 2,
   "metadata": {
    "collapsed": true
   },
   "outputs": [],
   "source": [
    "import numpy as np\n",
    "import matplotlib.pyplot as plt\n",
    "import dataset_utils as du\n",
    "\n",
    "from sklearn import svm, metrics\n",
    "from sklearn.model_selection import train_test_split\n",
    "from sklearn.decomposition import PCA"
   ]
  },
  {
   "cell_type": "markdown",
   "source": [
    "## Without ChaosFEX"
   ],
   "metadata": {
    "collapsed": false,
    "pycharm": {
     "name": "#%% md\n"
    }
   }
  },
  {
   "cell_type": "code",
   "execution_count": 72,
   "outputs": [
    {
     "name": "stdout",
     "output_type": "stream",
     "text": [
      "(560, 124044) (560,)\n",
      "(375, 124044) (185, 124044) (375,) (185,)\n"
     ]
    }
   ],
   "source": [
    "import os\n",
    "X = np.load(os.path.join(du.copy_base,'DATASET_bin_X.npy'))\n",
    "y = np.load(os.path.join(du.copy_base,'DATASET_bin_Y.npy'))\n",
    "# X = X[:48]\n",
    "# y = y[:48]\n",
    "\n",
    "X_l = X[:323]\n",
    "y_l = y[:323]\n",
    "X_r = X[323:]\n",
    "y_r = y[323:]\n",
    "idx = np.random.choice(len(y_l), 280)\n",
    "X_l = X_l[idx]\n",
    "y_l = y_l[idx]\n",
    "idx = np.random.choice(len(y_r), 280)\n",
    "X_r = X_r[idx]\n",
    "y_r = y_r[idx]\n",
    "X = np.append(X_l, X_r, axis=0)\n",
    "y = np.append(y_l, y_r)\n",
    "print(X.shape, y.shape)\n",
    "\n",
    "# pca_32 = PCA(n_components=32)\n",
    "\n",
    "# X = pca_32.fit_transform(X=X)\n",
    "X_train, X_test, y_train, y_test = train_test_split(X, y, test_size=0.33, shuffle=True)\n",
    "print(X_train.shape, X_test.shape, y_train.shape, y_test.shape)"
   ],
   "metadata": {
    "collapsed": false,
    "pycharm": {
     "name": "#%%\n"
    }
   }
  },
  {
   "cell_type": "code",
   "execution_count": 73,
   "outputs": [
    {
     "name": "stdout",
     "output_type": "stream",
     "text": [
      "starting epoch 1\n",
      "end of epoch 1\n",
      "starting epoch 2\n",
      "end of epoch 2\n",
      "starting epoch 3\n",
      "end of epoch 3\n",
      "starting epoch 4\n",
      "end of epoch 4\n",
      "starting epoch 5\n",
      "end of epoch 5\n",
      "starting epoch 6\n",
      "end of epoch 6\n",
      "starting epoch 7\n",
      "end of epoch 7\n",
      "starting epoch 8\n",
      "end of epoch 8\n",
      "starting epoch 9\n",
      "end of epoch 9\n",
      "starting epoch 10\n",
      "end of epoch 10\n",
      "Classification report for thee classifier: SVC(gamma=0.001)\n",
      "               precision    recall  f1-score   support\n",
      "\n",
      "           3       0.85      1.00      0.92        93\n",
      "          22       1.00      0.83      0.90        92\n",
      "\n",
      "    accuracy                           0.91       185\n",
      "   macro avg       0.93      0.91      0.91       185\n",
      "weighted avg       0.93      0.91      0.91       185\n",
      " \n",
      "\n"
     ]
    },
    {
     "data": {
      "text/plain": "<Figure size 432x288 with 2 Axes>",
      "image/png": "[encoded data removed]"
     },
     "metadata": {
      "needs_background": "light"
     },
     "output_type": "display_data"
    }
   ],
   "source": [
    "classifier = svm.SVC(gamma=0.001)\n",
    "for iter in range(10):\n",
    "    print(f\"starting epoch {iter+1}\")\n",
    "    classifier.fit(X_train, y_train)\n",
    "    X_train, X_test, y_train, y_test = train_test_split(X, y, test_size=0.33, shuffle=True)\n",
    "    print(f\"end of epoch {iter+1}\")\n",
    "\n",
    "\n",
    "predicted = classifier.predict(X_test)\n",
    "\n",
    "print(\"Classification report for thee classifier: %s\\n %s \\n\" %(classifier, metrics.classification_report(y_test, predicted)))\n",
    "\n",
    "disp = metrics.plot_confusion_matrix(classifier, X_test, y_test)"
   ],
   "metadata": {
    "collapsed": false,
    "pycharm": {
     "name": "#%%\n"
    }
   }
  },
  {
   "cell_type": "markdown",
   "source": [
    "## With ChaosFEX"
   ],
   "metadata": {
    "collapsed": false,
    "pycharm": {
     "name": "#%% md\n"
    }
   }
  },
  {
   "cell_type": "code",
   "execution_count": 3,
   "outputs": [
    {
     "name": "stdout",
     "output_type": "stream",
     "text": [
      "(560, 496176) (560,)\n",
      "(375, 496176) (185, 496176) (375,) (185,)\n"
     ]
    }
   ],
   "source": [
    "import os\n",
    "X = np.load(os.path.join(du.copy_base,'DATASET_toy_bin_X.npy'))\n",
    "y = np.load(os.path.join(du.copy_base,'DATASET_bin_Y.npy'))\n",
    "# X = X[:48]\n",
    "# y = y[:48]\n",
    "\n",
    "X_l = X[:323]\n",
    "y_l = y[:323]\n",
    "X_r = X[323:]\n",
    "y_r = y[323:]\n",
    "idx = np.random.choice(len(y_l), 280)\n",
    "X_l = X_l[idx]\n",
    "y_l = y_l[idx]\n",
    "idx = np.random.choice(len(y_r), 280)\n",
    "X_r = X_r[idx]\n",
    "y_r = y_r[idx]\n",
    "X = np.append(X_l, X_r, axis=0)\n",
    "y = np.append(y_l, y_r)\n",
    "print(X.shape, y.shape)\n",
    "\n",
    "\n",
    "# pca_32 = PCA(n_components=32)\n",
    "\n",
    "# X = pca_32.fit_transform(X=X)\n",
    "X_train, X_test, y_train, y_test = train_test_split(X, y, test_size=0.33, shuffle=True)\n",
    "print(X_train.shape, X_test.shape, y_train.shape, y_test.shape)"
   ],
   "metadata": {
    "collapsed": false,
    "pycharm": {
     "name": "#%%\n"
    }
   }
  },
  {
   "cell_type": "code",
   "execution_count": 4,
   "outputs": [
    {
     "name": "stdout",
     "output_type": "stream",
     "text": [
      "starting epoch 1\n",
      "end of epoch 1\n",
      "starting epoch 2\n",
      "end of epoch 2\n",
      "starting epoch 3\n",
      "end of epoch 3\n",
      "starting epoch 4\n",
      "end of epoch 4\n",
      "starting epoch 5\n",
      "end of epoch 5\n",
      "starting epoch 6\n",
      "end of epoch 6\n",
      "starting epoch 7\n",
      "end of epoch 7\n",
      "starting epoch 8\n",
      "end of epoch 8\n",
      "starting epoch 9\n",
      "end of epoch 9\n",
      "starting epoch 10\n",
      "end of epoch 10\n",
      "Classification report for thee classifier: SVC(kernel='linear')\n",
      "               precision    recall  f1-score   support\n",
      "\n",
      "           3       0.90      0.95      0.93        99\n",
      "          22       0.94      0.88      0.91        86\n",
      "\n",
      "    accuracy                           0.92       185\n",
      "   macro avg       0.92      0.92      0.92       185\n",
      "weighted avg       0.92      0.92      0.92       185\n",
      " \n",
      "\n"
     ]
    },
    {
     "data": {
      "text/plain": "<Figure size 432x288 with 2 Axes>",
      "image/png": "[encoded data removed]"
     },
     "metadata": {
      "needs_background": "light"
     },
     "output_type": "display_data"
    }
   ],
   "source": [
    "classifier = svm.SVC(kernel='linear')\n",
    "for iter in range(10):\n",
    "    print(f\"starting epoch {iter+1}\")\n",
    "    classifier.fit(X_train, y_train)\n",
    "    X_train, X_test, y_train, y_test = train_test_split(X, y, test_size=0.33, shuffle=True)\n",
    "    print(f\"end of epoch {iter+1}\")\n",
    "predicted = classifier.predict(X_test)\n",
    "\n",
    "print(\"Classification report for thee classifier: %s\\n %s \\n\" %(classifier, metrics.classification_report(y_test, predicted)))\n",
    "\n",
    "disp = metrics.plot_confusion_matrix(classifier, X_test, y_test)"
   ],
   "metadata": {
    "collapsed": false,
    "pycharm": {
     "name": "#%%\n"
    }
   }
  },
  {
   "cell_type": "markdown",
   "source": [
    "# Celtic Compositions as Test Set\n",
    "\n",
    "Here, we'll use Celtic compositions as test set and see how they get classified.\n",
    "\n",
    "## Without ChaosFEX"
   ],
   "metadata": {
    "collapsed": false,
    "pycharm": {
     "name": "#%% md\n"
    }
   }
  },
  {
   "cell_type": "code",
   "execution_count": 5,
   "outputs": [
    {
     "name": "stdout",
     "output_type": "stream",
     "text": [
      "(560, 124044) (560,)\n",
      "(560, 124044) (70, 124044) (560,)\n"
     ]
    }
   ],
   "source": [
    "X = np.load(os.path.join(du.copy_base,'DATASET_bin_X.npy'))\n",
    "y = np.load(os.path.join(du.copy_base,'DATASET_bin_Y.npy'))\n",
    "# X = X[:48]\n",
    "# y = y[:48]\n",
    "\n",
    "X_l = X[:323]\n",
    "y_l = y[:323]\n",
    "X_r = X[323:]\n",
    "y_r = y[323:]\n",
    "idx = np.random.choice(len(y_l), 280)\n",
    "X_l = X_l[idx]\n",
    "y_l = y_l[idx]\n",
    "idx = np.random.choice(len(y_r), 280)\n",
    "X_r = X_r[idx]\n",
    "y_r = y_r[idx]\n",
    "X = np.append(X_l, X_r, axis=0)\n",
    "y = np.append(y_l, y_r)\n",
    "print(X.shape, y.shape)\n",
    "\n",
    "# pca_32 = PCA(n_components=32)\n",
    "\n",
    "# X = pca_32.fit_transform(X=X)\n",
    "# X_train, X_test, y_train, y_test = train_test_split(X, y, test_size=0.33, shuffle=True)\n",
    "X_train = X\n",
    "y_train = y\n",
    "X_test = np.load(os.path.join(du.copy_base,'DATASET_only_Celtic_X.npy'))\n",
    "print(X_train.shape, X_test.shape, y_train.shape)"
   ],
   "metadata": {
    "collapsed": false,
    "pycharm": {
     "name": "#%%\n"
    }
   }
  },
  {
   "cell_type": "code",
   "execution_count": 6,
   "outputs": [
    {
     "name": "stdout",
     "output_type": "stream",
     "text": [
      "starting epoch 1\n",
      "end of epoch 1\n",
      "starting epoch 2\n",
      "end of epoch 2\n",
      "starting epoch 3\n",
      "end of epoch 3\n",
      "starting epoch 4\n",
      "end of epoch 4\n",
      "starting epoch 5\n",
      "end of epoch 5\n",
      "starting epoch 6\n",
      "end of epoch 6\n",
      "starting epoch 7\n",
      "end of epoch 7\n",
      "starting epoch 8\n",
      "end of epoch 8\n",
      "starting epoch 9\n",
      "end of epoch 9\n",
      "starting epoch 10\n",
      "end of epoch 10\n",
      "70 185\n"
     ]
    }
   ],
   "source": [
    "classifier = svm.SVC(gamma=0.001)\n",
    "for iter in range(10):\n",
    "    print(f\"starting epoch {iter+1}\")\n",
    "    classifier.fit(X_train, y_train)\n",
    "    X_train, X_test, y_train, y_test = train_test_split(X, y, test_size=0.33, shuffle=True)\n",
    "    print(f\"end of epoch {iter+1}\")\n",
    "\n",
    "predicted = classifier.predict(X_test)\n",
    "\n",
    "count = 0\n",
    "for i in range(len(predicted)):\n",
    "    if predicted[i] == 22:\n",
    "        count += 1\n",
    "print(count, len(predicted))"
   ],
   "metadata": {
    "collapsed": false,
    "pycharm": {
     "name": "#%%\n"
    }
   }
  },
  {
   "cell_type": "markdown",
   "source": [
    "## With ChaosFEX"
   ],
   "metadata": {
    "collapsed": false,
    "pycharm": {
     "name": "#%% md\n"
    }
   }
  },
  {
   "cell_type": "code",
   "execution_count": 69,
   "outputs": [
    {
     "name": "stdout",
     "output_type": "stream",
     "text": [
      "(560, 496176) (560,)\n",
      "(560, 496176) (70, 496176) (560,)\n"
     ]
    }
   ],
   "source": [
    "X = np.load(os.path.join(du.copy_base,'DATASET_toy_bin_X.npy'))\n",
    "y = np.load(os.path.join(du.copy_base,'DATASET_bin_Y.npy'))\n",
    "# X = X[:48]\n",
    "# y = y[:48]\n",
    "\n",
    "X_l = X[:323]\n",
    "y_l = y[:323]\n",
    "X_r = X[323:]\n",
    "y_r = y[323:]\n",
    "idx = np.random.choice(len(y_l), 280)\n",
    "X_l = X_l[idx]\n",
    "y_l = y_l[idx]\n",
    "idx = np.random.choice(len(y_r), 280)\n",
    "X_r = X_r[idx]\n",
    "y_r = y_r[idx]\n",
    "X = np.append(X_l, X_r, axis=0)\n",
    "y = np.append(y_l, y_r)\n",
    "print(X.shape, y.shape)\n",
    "\n",
    "# pca_32 = PCA(n_components=32)\n",
    "\n",
    "# X = pca_32.fit_transform(X=X)\n",
    "# X_train, X_test, y_train, y_test = train_test_split(X, y, test_size=0.33, shuffle=True)\n",
    "X_train = X\n",
    "y_train = y\n",
    "X_test = np.load(os.path.join(du.copy_base,'DATASET_only_Celtic_CFX_X.npy'))\n",
    "print(X_train.shape, X_test.shape, y_train.shape)"
   ],
   "metadata": {
    "collapsed": false,
    "pycharm": {
     "name": "#%%\n"
    }
   }
  },
  {
   "cell_type": "code",
   "execution_count": 70,
   "outputs": [
    {
     "name": "stdout",
     "output_type": "stream",
     "text": [
      "0 70\n"
     ]
    }
   ],
   "source": [
    "classifier = svm.SVC(gamma=0.001)\n",
    "classifier.fit(X_train, y_train)\n",
    "predicted = classifier.predict(X_test)\n",
    "\n",
    "count = 0\n",
    "for i in range(len(predicted)):\n",
    "    if predicted[i] == 22:\n",
    "        count += 1\n",
    "print(count, len(predicted))"
   ],
   "metadata": {
    "collapsed": false,
    "pycharm": {
     "name": "#%%\n"
    }
   }
  },
  {
   "cell_type": "markdown",
   "source": [
    "# SVM with ChaosFEX on a dataset with varying epsilon values\n"
   ],
   "metadata": {
    "collapsed": false,
    "pycharm": {
     "name": "#%% md\n"
    }
   }
  }
 ],
 "metadata": {
  "kernelspec": {
   "display_name": "Python 3",
   "language": "python",
   "name": "python3"
  },
  "language_info": {
   "codemirror_mode": {
    "name": "ipython",
    "version": 2
   },
   "file_extension": ".py",
   "mimetype": "text/x-python",
   "name": "python",
   "nbconvert_exporter": "python",
   "pygments_lexer": "ipython2",
   "version": "2.7.6"
  }
 },
 "nbformat": 4,
 "nbformat_minor": 0
}