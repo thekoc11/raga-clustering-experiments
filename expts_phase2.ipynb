{
 "cells": [
  {
   "cell_type": "code",
   "execution_count": 1,
   "metadata": {
    "collapsed": true
   },
   "outputs": [],
   "source": [
    "import feat_ops\n",
    "import dataset_utils\n",
    "import platform_details\n",
    "import audio_utils\n",
    "import svm_classifier\n",
    "import numpy as np\n",
    "import all_scale\n",
    "from Viewpoints import Viewpoints\n",
    "\n",
    "def getTrainData(ragaIds, feature='chroma', size=999999):\n",
    "    xs = []\n",
    "    ys = []\n",
    "\n",
    "    std_size = size\n",
    "    for id in  ragaIds:\n",
    "        x = feat_ops.get_merged_genre_feats(id, feature)\n",
    "        y = np.ones(x.shape[0]) * id\n",
    "        if(std_size > y.shape[0]):\n",
    "            std_size = y.shape[0]\n",
    "        xs.append(x)\n",
    "        ys.append(y)\n",
    "\n",
    "    Xs = []\n",
    "    Ys = []\n",
    "    for x, y in zip(xs, ys):\n",
    "        num_elements = np.random.choice(np.arange(y.shape[0]), std_size)\n",
    "        X = x[num_elements]\n",
    "        Y = y[num_elements]\n",
    "        Xs.append(X)\n",
    "        Ys.append(Y)\n",
    "    retX = Xs[0]\n",
    "    retY = Ys[0]\n",
    "    for i in range(1, len(Ys)):\n",
    "        retX = np.append(retX, Xs[i], axis=0)\n",
    "        retY = np.append(retY, Ys[i], axis=0)\n",
    "\n",
    "    return retX, retY\n",
    "\n",
    "def flattenX(X):\n",
    "    _x = []\n",
    "    for x in X:\n",
    "        _x.append(x.ravel())\n",
    "    return np.array(_x)\n",
    "\n",
    "def gated_selection_X(X):\n",
    "    _x = []\n",
    "    for x in X:\n",
    "        add_x = audio_utils._add_rests(x)\n",
    "        add_x = audio_utils.gated_selection(add_x)\n",
    "        _x.append(add_x)\n",
    "    return np.array(_x)\n",
    "\n",
    "def get_pitches_data(X):\n",
    "    new_X = []\n",
    "    new_size = 0\n",
    "    pitches = []\n",
    "    for chroma in X:\n",
    "        vp = Viewpoints(chroma)\n",
    "        pitch = vp.get_pitches()\n",
    "        if pitch.shape[0] > new_size:\n",
    "            new_size = pitch.shape[0]\n",
    "        pitches.append(pitch)\n",
    "    return pitches\n",
    "\n",
    "def get_pcd_data(X, version='bigram'):\n",
    "    pcds = []\n",
    "    for chroma in X:\n",
    "        vp = Viewpoints(chroma)\n",
    "        events, dists = vp.scale_sensitive_params()\n",
    "        pcd = dists[1] if version=='weighted' else dists[0]\n",
    "        if version == 'bigram':\n",
    "            pcd = vp.get_viewpoint('bigram_pcd')\n",
    "        pcds.append(pcd)\n",
    "    return np.array(pcds)\n",
    "\n",
    "def standardise_note_events(array, size):\n",
    "    new_arr = []\n",
    "    for p in array:\n",
    "        if p.shape[0] < size:\n",
    "            p = np.append(p, np.zeros(size - p.shape[0]), axis=0)\n",
    "        new_arr.append(p)\n",
    "    return np.array(new_arr)\n",
    "\n",
    "def normalize_pitchData_X(X):\n",
    "    Xmax = 0\n",
    "    Xmin = 9999\n",
    "    for x in X:\n",
    "        if Xmax < max(x):\n",
    "            Xmax = max(x)\n",
    "        if Xmin > min(x):\n",
    "            Xmin = min(x)\n",
    "\n",
    "    if Xmin == 0:\n",
    "        for i in range(len(X)):\n",
    "            X[i] += 1\n",
    "    for i in range(len(X)):\n",
    "        X[i] = X[i] / Xmax\n",
    "    return X"
   ]
  },
  {
   "cell_type": "code",
   "execution_count": 28,
   "outputs": [
    {
     "name": "stdout",
     "output_type": "stream",
     "text": [
      "(92, 13, 2585) (92,)\n"
     ]
    }
   ],
   "source": [
    "X, y = getTrainData((3, 41))\n",
    "X = gated_selection_X(X)\n",
    "FEATURE_SET_SIZE = 1500\n",
    "# X = standardise_note_events(X, FEATURE_SET_SIZE)\n",
    "# X = flattenX(X)\n",
    "print(X.shape, y.shape)"
   ],
   "metadata": {
    "collapsed": false,
    "pycharm": {
     "name": "#%%\n"
    }
   }
  },
  {
   "cell_type": "markdown",
   "source": [
    "Training the data"
   ],
   "metadata": {
    "collapsed": false,
    "pycharm": {
     "name": "#%% md\n"
    }
   }
  },
  {
   "cell_type": "code",
   "execution_count": 32,
   "outputs": [
    {
     "name": "stderr",
     "output_type": "stream",
     "text": [
      "100%|██████████| 10/10 [07:06<00:00, 42.66s/it]\n"
     ]
    },
    {
     "name": "stdout",
     "output_type": "stream",
     "text": [
      "10-fold cross-validation started\n",
      "Prec \t F1 \t Acc\n",
      "(984, 33605) (10, 33605)\n",
      "0.8333333333333334 \t 0.9090909090909091 \t 0.9\n",
      "(984, 33605) (10, 33605)\n",
      "1.0 \t 1.0 \t 1.0\n",
      "(984, 33605) (10, 33605)\n",
      "1.0 \t 0.888888888888889 \t 0.9\n",
      "(984, 33605) (10, 33605)\n",
      "0.8333333333333334 \t 0.9090909090909091 \t 0.9\n",
      "(984, 33605) (10, 33605)\n",
      "0.8 \t 0.8000000000000002 \t 0.8\n",
      "(984, 33605) (10, 33605)\n",
      "1.0 \t 0.888888888888889 \t 0.9\n",
      "(984, 33605) (10, 33605)\n",
      "0.8333333333333334 \t 0.9090909090909091 \t 0.9\n",
      "(984, 33605) (10, 33605)\n",
      "1.0 \t 0.888888888888889 \t 0.9\n",
      "(984, 33605) (10, 33605)\n",
      "1.0 \t 0.888888888888889 \t 0.9\n",
      "(984, 33605) (10, 33605)\n",
      "0.8 \t 0.8000000000000002 \t 0.8\n",
      "0.8882828282828283\n"
     ]
    }
   ],
   "source": [
    "from sklearn.model_selection import train_test_split\n",
    "from sklearn import svm\n",
    "from sklearn import metrics\n",
    "import tqdm\n",
    "\n",
    "clf = svm.SVC(kernel='linear')\n",
    "X_train, X_test, y_train, y_test = all_scale.train_test_split(X, y, type='events') # train_test_split(X, y, test_size=0.1, shuffle=True)\n",
    "print(\"10-fold cross-validation started\")\n",
    "prec = np.zeros(10)\n",
    "f1 = np.zeros(10)\n",
    "acc = np.zeros(10)\n",
    "print(\"Prec \\t F1 \\t Acc\")\n",
    "for iter in tqdm.tqdm(range(10)):\n",
    "    clfX_train = X_train.copy()\n",
    "    # clfX_train = get_pcd_data(clfX_train, 'bigram')\n",
    "    clfX_train = flattenX(clfX_train)\n",
    "    clfX_test = X_test.copy()\n",
    "    # clfX_test = get_pcd_data(clfX_test, 'bigram')\n",
    "    clfX_test = flattenX(clfX_test)\n",
    "    print(clfX_train.shape,clfX_test.shape)\n",
    "    # clfX_test = standardise_note_events(clfX_test, FEATURE_SET_SIZE)\n",
    "    clf.fit(clfX_train, y_train)\n",
    "    predicted = clf.predict(clfX_test)\n",
    "    p = metrics.precision_score(y_test, predicted, pos_label=y[0])\n",
    "    prec[iter] = p\n",
    "    f = metrics.f1_score(y_test, predicted, pos_label=y[0])\n",
    "    f1[iter] = f\n",
    "    a = metrics.accuracy_score(y_test, predicted)\n",
    "    acc[iter] = a\n",
    "    print(f\"{p} \\t {f} \\t {a}\")\n",
    "    X_train, X_test, y_train, y_test = all_scale.train_test_split(X, y, type='events') # train_test_split(X, y, test_size=0.1, shuffle=True)\n",
    "\n",
    "avg_prec = prec.sum()/len(prec)\n",
    "avg_f1 = f1.sum() / len(f1)\n",
    "avg_acc = acc.sum()/len(acc)\n",
    "\n",
    "print(avg_f1)"
   ],
   "metadata": {
    "collapsed": false,
    "pycharm": {
     "name": "#%%\n"
    }
   }
  },
  {
   "cell_type": "markdown",
   "source": [
    "Testing"
   ],
   "metadata": {
    "collapsed": false,
    "pycharm": {
     "name": "#%% md\n"
    }
   }
  },
  {
   "cell_type": "code",
   "execution_count": 30,
   "outputs": [
    {
     "name": "stdout",
     "output_type": "stream",
     "text": [
      "(18, 33605) (18,)\n"
     ]
    }
   ],
   "source": [
    "test_X, test_y = getTrainData((42, ), size=18)\n",
    "test_y = (test_y / 42) * 41\n",
    "test_X = gated_selection_X(test_X)\n",
    "# test_X = get_pcd_data(test_X, 'bigram')\n",
    "test_X = flattenX(test_X)\n",
    "print(test_X.shape, test_y.shape)"
   ],
   "metadata": {
    "collapsed": false,
    "pycharm": {
     "name": "#%%\n"
    }
   }
  },
  {
   "cell_type": "code",
   "execution_count": 33,
   "outputs": [
    {
     "name": "stderr",
     "output_type": "stream",
     "text": [
      "UndefinedMetricWarning:\n",
      "    Recall and F-score are ill-defined and being set to 0.0 in labels with no true samples. Use `zero_division` parameter to control this behavior.\n"
     ]
    },
    {
     "name": "stdout",
     "output_type": "stream",
     "text": [
      "Classification report for thee classifier: SVC(kernel='linear')\n",
      "               precision    recall  f1-score   support\n",
      "\n",
      "         3.0       0.00      0.00      0.00         0\n",
      "        41.0       1.00      0.72      0.84        18\n",
      "\n",
      "    accuracy                           0.72        18\n",
      "   macro avg       0.50      0.36      0.42        18\n",
      "weighted avg       1.00      0.72      0.84        18\n",
      " \n",
      "\n"
     ]
    },
    {
     "data": {
      "text/plain": "<Figure size 432x288 with 2 Axes>",
      "image/png": "[encoded data removed]"
     },
     "metadata": {
      "needs_background": "light"
     },
     "output_type": "display_data"
    }
   ],
   "source": [
    "predicted = clf.predict(test_X)\n",
    "\n",
    "print(\"Classification report for thee classifier: %s\\n %s \\n\" %\n",
    "      (clf, metrics.classification_report(test_y, predicted)))\n",
    "\n",
    "disp = metrics.plot_confusion_matrix(clf, test_X, test_y)"
   ],
   "metadata": {
    "collapsed": false,
    "pycharm": {
     "name": "#%%\n"
    }
   }
  },
  {
   "cell_type": "markdown",
   "source": [
    "With augmentation"
   ],
   "metadata": {
    "collapsed": false,
    "pycharm": {
     "name": "#%% md\n"
    }
   }
  },
  {
   "cell_type": "code",
   "execution_count": 28,
   "outputs": [
    {
     "data": {
      "text/plain": "array([[11.76557586,  5.76557586,  5.76557586,  0.78512587,  5.76557586,\n         9.628713  ,  0.78512587,  3.45383493,  5.76557586,  7.80467588,\n         9.628713  , 11.27875529,  0.78512587,  2.17085248,  3.45383493,\n         4.64826301,  5.76557586,  6.81512996,  7.80467588,  8.74070602,\n         9.628713  , 10.47338494, 11.27875529,  0.04831933,  0.78512587,\n         1.49185014,  2.17085248,  2.82422589,  3.45383493,  4.0613478 ,\n         4.64826301,  5.21593159],\n       [10.76557586,  4.76557586,  4.76557586, 11.78512587,  4.76557586,\n         8.628713  , 11.78512587,  2.45383493,  4.76557586,  6.80467588,\n         8.628713  , 10.27875529, 11.78512587,  1.17085248,  2.45383493,\n         3.64826301,  4.76557586,  5.81512996,  6.80467588,  7.74070602,\n         8.628713  ,  9.47338494, 10.27875529, 11.04831933, 11.78512587,\n         0.49185014,  1.17085248,  1.82422589,  2.45383493,  3.0613478 ,\n         3.64826301,  4.21593159],\n       [ 9.76557586,  3.76557586,  3.76557586, 10.78512587,  3.76557586,\n         7.628713  , 10.78512587,  1.45383493,  3.76557586,  5.80467588,\n         7.628713  ,  9.27875529, 10.78512587,  0.17085248,  1.45383493,\n         2.64826301,  3.76557586,  4.81512996,  5.80467588,  6.74070602,\n         7.628713  ,  8.47338494,  9.27875529, 10.04831933, 10.78512587,\n        11.49185014,  0.17085248,  0.82422589,  1.45383493,  2.0613478 ,\n         2.64826301,  3.21593159],\n       [ 8.76557586,  2.76557586,  2.76557586,  9.78512587,  2.76557586,\n         6.628713  ,  9.78512587,  0.45383493,  2.76557586,  4.80467588,\n         6.628713  ,  8.27875529,  9.78512587, 11.17085248,  0.45383493,\n         1.64826301,  2.76557586,  3.81512996,  4.80467588,  5.74070602,\n         6.628713  ,  7.47338494,  8.27875529,  9.04831933,  9.78512587,\n        10.49185014, 11.17085248, 11.82422589,  0.45383493,  1.0613478 ,\n         1.64826301,  2.21593159],\n       [ 7.76557586,  1.76557586,  1.76557586,  8.78512587,  1.76557586,\n         5.628713  ,  8.78512587, 11.45383493,  1.76557586,  3.80467588,\n         5.628713  ,  7.27875529,  8.78512587, 10.17085248, 11.45383493,\n         0.64826301,  1.76557586,  2.81512996,  3.80467588,  4.74070602,\n         5.628713  ,  6.47338494,  7.27875529,  8.04831933,  8.78512587,\n         9.49185014, 10.17085248, 10.82422589, 11.45383493,  0.0613478 ,\n         0.64826301,  1.21593159],\n       [ 6.76557586,  0.76557586,  0.76557586,  7.78512587,  0.76557586,\n         4.628713  ,  7.78512587, 10.45383493,  0.76557586,  2.80467588,\n         4.628713  ,  6.27875529,  7.78512587,  9.17085248, 10.45383493,\n        11.64826301,  0.76557586,  1.81512996,  2.80467588,  3.74070602,\n         4.628713  ,  5.47338494,  6.27875529,  7.04831933,  7.78512587,\n         8.49185014,  9.17085248,  9.82422589, 10.45383493, 11.0613478 ,\n        11.64826301,  0.21593159],\n       [ 5.76557586, 11.76557586, 11.76557586,  6.78512587, 11.76557586,\n         3.628713  ,  6.78512587,  9.45383493, 11.76557586,  1.80467588,\n         3.628713  ,  5.27875529,  6.78512587,  8.17085248,  9.45383493,\n        10.64826301, 11.76557586,  0.81512996,  1.80467588,  2.74070602,\n         3.628713  ,  4.47338494,  5.27875529,  6.04831933,  6.78512587,\n         7.49185014,  8.17085248,  8.82422589,  9.45383493, 10.0613478 ,\n        10.64826301, 11.21593159],\n       [ 4.76557586, 10.76557586, 10.76557586,  5.78512587, 10.76557586,\n         2.628713  ,  5.78512587,  8.45383493, 10.76557586,  0.80467588,\n         2.628713  ,  4.27875529,  5.78512587,  7.17085248,  8.45383493,\n         9.64826301, 10.76557586, 11.81512996,  0.80467588,  1.74070602,\n         2.628713  ,  3.47338494,  4.27875529,  5.04831933,  5.78512587,\n         6.49185014,  7.17085248,  7.82422589,  8.45383493,  9.0613478 ,\n         9.64826301, 10.21593159],\n       [ 3.76557586,  9.76557586,  9.76557586,  4.78512587,  9.76557586,\n         1.628713  ,  4.78512587,  7.45383493,  9.76557586, 11.80467588,\n         1.628713  ,  3.27875529,  4.78512587,  6.17085248,  7.45383493,\n         8.64826301,  9.76557586, 10.81512996, 11.80467588,  0.74070602,\n         1.628713  ,  2.47338494,  3.27875529,  4.04831933,  4.78512587,\n         5.49185014,  6.17085248,  6.82422589,  7.45383493,  8.0613478 ,\n         8.64826301,  9.21593159],\n       [ 2.76557586,  8.76557586,  8.76557586,  3.78512587,  8.76557586,\n         0.628713  ,  3.78512587,  6.45383493,  8.76557586, 10.80467588,\n         0.628713  ,  2.27875529,  3.78512587,  5.17085248,  6.45383493,\n         7.64826301,  8.76557586,  9.81512996, 10.80467588, 11.74070602,\n         0.628713  ,  1.47338494,  2.27875529,  3.04831933,  3.78512587,\n         4.49185014,  5.17085248,  5.82422589,  6.45383493,  7.0613478 ,\n         7.64826301,  8.21593159],\n       [ 1.76557586,  7.76557586,  7.76557586,  2.78512587,  7.76557586,\n        11.628713  ,  2.78512587,  5.45383493,  7.76557586,  9.80467588,\n        11.628713  ,  1.27875529,  2.78512587,  4.17085248,  5.45383493,\n         6.64826301,  7.76557586,  8.81512996,  9.80467588, 10.74070602,\n        11.628713  ,  0.47338494,  1.27875529,  2.04831933,  2.78512587,\n         3.49185014,  4.17085248,  4.82422589,  5.45383493,  6.0613478 ,\n         6.64826301,  7.21593159],\n       [ 0.76557586,  6.76557586,  6.76557586,  1.78512587,  6.76557586,\n        10.628713  ,  1.78512587,  4.45383493,  6.76557586,  8.80467588,\n        10.628713  ,  0.27875529,  1.78512587,  3.17085248,  4.45383493,\n         5.64826301,  6.76557586,  7.81512996,  8.80467588,  9.74070602,\n        10.628713  , 11.47338494,  0.27875529,  1.04831933,  1.78512587,\n         2.49185014,  3.17085248,  3.82422589,  4.45383493,  5.0613478 ,\n         5.64826301,  6.21593159]])"
     },
     "execution_count": 28,
     "metadata": {},
     "output_type": "execute_result"
    }
   ],
   "source": [
    "import numpy as np\n",
    "import librosa as lb\n",
    "freqs = np.linspace(0, 22050, 32, endpoint=False)[1:]\n",
    "\n",
    "frqbins = 12 * lb.hz_to_octs(freqs, 440)\n",
    "frqbins = np.concatenate(([frqbins[0] - 1.5*12], frqbins))\n",
    "binwidthbins = np.concatenate((np.maximum(frqbins[1:] - frqbins[:-1], 1.0), [1]))\n",
    "# binwidthbins\n",
    "# frqbins[1:] - frqbins[:-1]\n",
    "\n",
    "D = np.subtract.outer(frqbins, np.arange(0, 12, dtype='d')).T\n",
    "D = np.remainder(D + 6 + 120, 12)\n",
    "# D + 6 + 120"
   ],
   "metadata": {
    "collapsed": false,
    "pycharm": {
     "name": "#%%"
    }
   }
  },
  {
   "cell_type": "code",
   "execution_count": 1,
   "outputs": [],
   "source": [
    "import librosa\n",
    "import numpy as np\n",
    "\n",
    "y, sr = librosa.load(r\"C:\\Users\\theko\\Documents\\Yaman\\Audio\\Gat1-000.wav\", sr=44100)"
   ],
   "metadata": {
    "collapsed": false,
    "pycharm": {
     "name": "#%%\n"
    }
   }
  },
  {
   "cell_type": "code",
   "execution_count": 14,
   "outputs": [
    {
     "name": "stdout",
     "output_type": "stream",
     "text": [
      "1031.8237239400162 18742.5\n"
     ]
    }
   ],
   "source": [
    "n_octaves = int(np.ceil(float(36) / 12))\n",
    "n_filters = 12\n",
    "\n",
    "len_orig = len(y)\n",
    "fmin = librosa.note_to_hz(\"C3\")\n",
    "tuning = librosa.estimate_tuning(y=y, sr=sr)\n",
    "\n",
    "freqs = librosa.cqt_frequencies(36, fmin, bins_per_octave=12)[-12:]\n",
    "\n",
    "fmin_t = np.min(freqs)\n",
    "fmax_t = np.max(freqs)\n",
    "\n",
    "Q = 1.0 / (2.0**( 1. / 12.0) - 1)\n",
    "filter_cutoff = fmax_t * (1 + 0.5 * librosa.filters.window_bandwidth('hann') / Q)\n",
    "nyquist_frq = sr / 2.0\n",
    "print(filter_cutoff, librosa.audio.BW_FASTEST * nyquist_frq)"
   ],
   "metadata": {
    "collapsed": false,
    "pycharm": {
     "name": "#%%\n"
    }
   }
  }
 ],
 "metadata": {
  "kernelspec": {
   "display_name": "Python 3",
   "language": "python",
   "name": "python3"
  },
  "language_info": {
   "codemirror_mode": {
    "name": "ipython",
    "version": 2
   },
   "file_extension": ".py",
   "mimetype": "text/x-python",
   "name": "python",
   "nbconvert_exporter": "python",
   "pygments_lexer": "ipython2",
   "version": "2.7.6"
  }
 },
 "nbformat": 4,
 "nbformat_minor": 0
}