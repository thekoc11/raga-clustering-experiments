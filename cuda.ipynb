{
 "cells": [
  {
   "cell_type": "code",
   "execution_count": 10,
   "metadata": {
    "collapsed": true
   },
   "outputs": [
    {
     "data": {
      "text/plain": "array([[     0],\n       [    10],\n       [    20],\n       ...,\n       [499970],\n       [499980],\n       [499990]])"
     },
     "execution_count": 10,
     "metadata": {},
     "output_type": "execute_result"
    }
   ],
   "source": [
    "import numpy as np\n",
    "a = np.array([1, 2, 3, 4])\n",
    "b = np.array([i*10 for i in range(50000)])\n",
    "np.add(a, 500)\n",
    "\n",
    "c = np.arange(50000*4).reshape((50000, 4)).astype(np.int32)\n",
    "b_col = b[:, np.newaxis].astype(np.int32)\n",
    "b_col"
   ]
  },
  {
   "cell_type": "code",
   "execution_count": 8,
   "outputs": [],
   "source": [
    "from numba import vectorize\n",
    "\n",
    "@vectorize(['int32(int32, int32)'], target='cuda')\n",
    "def add_ufunc(x, y):\n",
    "    return x + y"
   ],
   "metadata": {
    "collapsed": false,
    "pycharm": {
     "name": "#%%\n"
    }
   }
  },
  {
   "cell_type": "code",
   "execution_count": 12,
   "outputs": [
    {
     "name": "stdout",
     "output_type": "stream",
     "text": [
      "1.27 ms ± 119 µs per loop (mean ± std. dev. of 7 runs, 1000 loops each)\n"
     ]
    }
   ],
   "source": [
    "%timeit np.add(b_col, c)"
   ],
   "metadata": {
    "collapsed": false,
    "pycharm": {
     "name": "#%%\n"
    }
   }
  },
  {
   "cell_type": "code",
   "execution_count": 11,
   "outputs": [
    {
     "name": "stdout",
     "output_type": "stream",
     "text": [
      "10.9 ms ± 1.59 ms per loop (mean ± std. dev. of 7 runs, 100 loops each)\n"
     ]
    }
   ],
   "source": [
    "%timeit add_ufunc(b_col, c)"
   ],
   "metadata": {
    "collapsed": false,
    "pycharm": {
     "name": "#%%\n"
    }
   }
  },
  {
   "cell_type": "code",
   "execution_count": 13,
   "outputs": [
    {
     "name": "stdout",
     "output_type": "stream",
     "text": [
      "129 ms ± 16.2 ms per loop (mean ± std. dev. of 7 runs, 10 loops each)\n",
      "19.9 ms ± 4.84 ms per loop (mean ± std. dev. of 7 runs, 1 loop each)\n"
     ]
    }
   ],
   "source": [
    "import math\n",
    "\n",
    "SQRT_2PI = np.float32((2*math.pi)**0.5)\n",
    "\n",
    "@vectorize(['float32(float32, float32, float32)'], target='cuda')\n",
    "def gaussian_pdf(x, mu, sigma):\n",
    "  return math.exp(0.5 * ((x - mu)/sigma)**2) / (sigma * SQRT_2PI)\n",
    "\n",
    "x = np.random.uniform(-3, 3, size=1000000).astype(np.float32)\n",
    "mu =  np.float32(0.0)\n",
    "sigma = np.float32(1.0)\n",
    "\n",
    "import scipy.stats\n",
    "norm_pdf = scipy.stats.norm\n",
    "%timeit norm_pdf.pdf(x, loc=mu, scale=sigma)\n",
    "\n",
    "%timeit gaussian_pdf(x, mu, sigma)"
   ],
   "metadata": {
    "collapsed": false,
    "pycharm": {
     "name": "#%%\n"
    }
   }
  },
  {
   "cell_type": "code",
   "execution_count": 36,
   "outputs": [
    {
     "name": "stdout",
     "output_type": "stream",
     "text": [
      "[1.4192139 1.1245332 1.4098022 ... 0.8995225 2.4052236 1.9447448]\n"
     ]
    }
   ],
   "source": [
    "from numba import cuda\n",
    "\n",
    "@cuda.jit(device=True)\n",
    "def polar_to_cartesian(r, theta):\n",
    "  x = r * math.cos(theta)\n",
    "  y = r * math.sin(theta)\n",
    "  return x,y\n",
    "\n",
    "@vectorize(['float32(float32, float32, float32, float32)'], target='cuda')\n",
    "def polar_distance(r1, r2, theta1, theta2):\n",
    "  x1, y1 = polar_to_cartesian(r1, theta1)\n",
    "  x2, y2 = polar_to_cartesian(r2, theta2)\n",
    "\n",
    "  return ((x1 - x2)**2 + (y1 - y2)**2)**0.5\n",
    "\n",
    "n = 10000000\n",
    "r1 = np.random.uniform(0.5, 1.5, size=n).astype(np.float32)\n",
    "r2 = np.random.uniform(0.5, 1.5, size=n).astype(np.float32)\n",
    "theta1 = np.random.uniform(-np.pi, np.pi, size=n).astype(np.float32)\n",
    "theta2 = np.random.uniform(-np.pi, np.pi, size=n).astype(np.float32)\n",
    "\n",
    "print(polar_distance(r1, r2, theta1, theta2))\n",
    "\n",
    "cuda.select_device(0)\n",
    "cuda.close()"
   ],
   "metadata": {
    "collapsed": false,
    "pycharm": {
     "name": "#%%\n"
    }
   }
  }
 ],
 "metadata": {
  "kernelspec": {
   "name": "python3",
   "language": "python",
   "display_name": "Python 3"
  },
  "language_info": {
   "codemirror_mode": {
    "name": "ipython",
    "version": 2
   },
   "file_extension": ".py",
   "mimetype": "text/x-python",
   "name": "python",
   "nbconvert_exporter": "python",
   "pygments_lexer": "ipython2",
   "version": "2.7.6"
  }
 },
 "nbformat": 4,
 "nbformat_minor": 0
}